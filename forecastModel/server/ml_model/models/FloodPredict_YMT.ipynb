{
 "cells": [
  {
   "cell_type": "code",
   "execution_count": 1,
   "id": "c3906799-3807-4732-bd5f-6927dce2ca25",
   "metadata": {},
   "outputs": [],
   "source": [
    "import pandas as pd\n",
    "from sklearn.model_selection import train_test_split\n",
    "from sklearn.linear_model import LinearRegression\n",
    "from sklearn.metrics import mean_absolute_error"
   ]
  },
  {
   "cell_type": "code",
   "execution_count": 2,
   "id": "9b49d6bb-d16e-4d5c-a463-2e234d14eb54",
   "metadata": {},
   "outputs": [
    {
     "data": {
      "text/html": [
       "<div>\n",
       "<style scoped>\n",
       "    .dataframe tbody tr th:only-of-type {\n",
       "        vertical-align: middle;\n",
       "    }\n",
       "\n",
       "    .dataframe tbody tr th {\n",
       "        vertical-align: top;\n",
       "    }\n",
       "\n",
       "    .dataframe thead th {\n",
       "        text-align: right;\n",
       "    }\n",
       "</style>\n",
       "<table border=\"1\" class=\"dataframe\">\n",
       "  <thead>\n",
       "    <tr style=\"text-align: right;\">\n",
       "      <th></th>\n",
       "      <th>location</th>\n",
       "      <th>year</th>\n",
       "      <th>month</th>\n",
       "      <th>day</th>\n",
       "      <th>mean_windspeed</th>\n",
       "      <th>wind_direction</th>\n",
       "      <th>mean_tempurature</th>\n",
       "      <th>humidity</th>\n",
       "      <th>rainfall</th>\n",
       "      <th>duration</th>\n",
       "      <th>color</th>\n",
       "    </tr>\n",
       "  </thead>\n",
       "  <tbody>\n",
       "    <tr>\n",
       "      <th>0</th>\n",
       "      <td>Yau Ma Tei</td>\n",
       "      <td>2019</td>\n",
       "      <td>1</td>\n",
       "      <td>1</td>\n",
       "      <td>NaN</td>\n",
       "      <td>NaN</td>\n",
       "      <td>13.8</td>\n",
       "      <td>68</td>\n",
       "      <td>Trace</td>\n",
       "      <td>0</td>\n",
       "      <td>Green</td>\n",
       "    </tr>\n",
       "    <tr>\n",
       "      <th>1</th>\n",
       "      <td>Yau Ma Tei</td>\n",
       "      <td>2019</td>\n",
       "      <td>1</td>\n",
       "      <td>2</td>\n",
       "      <td>NaN</td>\n",
       "      <td>NaN</td>\n",
       "      <td>14.8</td>\n",
       "      <td>68</td>\n",
       "      <td>Trace</td>\n",
       "      <td>0</td>\n",
       "      <td>Green</td>\n",
       "    </tr>\n",
       "    <tr>\n",
       "      <th>2</th>\n",
       "      <td>Yau Ma Tei</td>\n",
       "      <td>2019</td>\n",
       "      <td>1</td>\n",
       "      <td>3</td>\n",
       "      <td>NaN</td>\n",
       "      <td>NaN</td>\n",
       "      <td>16.2</td>\n",
       "      <td>84</td>\n",
       "      <td>0.1</td>\n",
       "      <td>0</td>\n",
       "      <td>Green</td>\n",
       "    </tr>\n",
       "    <tr>\n",
       "      <th>3</th>\n",
       "      <td>Yau Ma Tei</td>\n",
       "      <td>2019</td>\n",
       "      <td>1</td>\n",
       "      <td>4</td>\n",
       "      <td>NaN</td>\n",
       "      <td>NaN</td>\n",
       "      <td>18.8</td>\n",
       "      <td>83</td>\n",
       "      <td>0.1</td>\n",
       "      <td>0</td>\n",
       "      <td>Green</td>\n",
       "    </tr>\n",
       "    <tr>\n",
       "      <th>4</th>\n",
       "      <td>Yau Ma Tei</td>\n",
       "      <td>2019</td>\n",
       "      <td>1</td>\n",
       "      <td>5</td>\n",
       "      <td>NaN</td>\n",
       "      <td>NaN</td>\n",
       "      <td>19.8</td>\n",
       "      <td>87</td>\n",
       "      <td>0</td>\n",
       "      <td>0</td>\n",
       "      <td>Green</td>\n",
       "    </tr>\n",
       "    <tr>\n",
       "      <th>...</th>\n",
       "      <td>...</td>\n",
       "      <td>...</td>\n",
       "      <td>...</td>\n",
       "      <td>...</td>\n",
       "      <td>...</td>\n",
       "      <td>...</td>\n",
       "      <td>...</td>\n",
       "      <td>...</td>\n",
       "      <td>...</td>\n",
       "      <td>...</td>\n",
       "      <td>...</td>\n",
       "    </tr>\n",
       "    <tr>\n",
       "      <th>1912</th>\n",
       "      <td>Yau Ma Tei</td>\n",
       "      <td>2024</td>\n",
       "      <td>3</td>\n",
       "      <td>27</td>\n",
       "      <td>NaN</td>\n",
       "      <td>NaN</td>\n",
       "      <td>22.4</td>\n",
       "      <td>82</td>\n",
       "      <td>Trace</td>\n",
       "      <td>0</td>\n",
       "      <td>Green</td>\n",
       "    </tr>\n",
       "    <tr>\n",
       "      <th>1913</th>\n",
       "      <td>Yau Ma Tei</td>\n",
       "      <td>2024</td>\n",
       "      <td>3</td>\n",
       "      <td>28</td>\n",
       "      <td>NaN</td>\n",
       "      <td>NaN</td>\n",
       "      <td>24.7</td>\n",
       "      <td>82</td>\n",
       "      <td>0</td>\n",
       "      <td>0</td>\n",
       "      <td>Green</td>\n",
       "    </tr>\n",
       "    <tr>\n",
       "      <th>1914</th>\n",
       "      <td>Yau Ma Tei</td>\n",
       "      <td>2024</td>\n",
       "      <td>3</td>\n",
       "      <td>29</td>\n",
       "      <td>NaN</td>\n",
       "      <td>NaN</td>\n",
       "      <td>25.5</td>\n",
       "      <td>81</td>\n",
       "      <td>Trace</td>\n",
       "      <td>0</td>\n",
       "      <td>Green</td>\n",
       "    </tr>\n",
       "    <tr>\n",
       "      <th>1915</th>\n",
       "      <td>Yau Ma Tei</td>\n",
       "      <td>2024</td>\n",
       "      <td>3</td>\n",
       "      <td>30</td>\n",
       "      <td>NaN</td>\n",
       "      <td>NaN</td>\n",
       "      <td>26.4</td>\n",
       "      <td>80</td>\n",
       "      <td>Trace</td>\n",
       "      <td>0</td>\n",
       "      <td>Green</td>\n",
       "    </tr>\n",
       "    <tr>\n",
       "      <th>1916</th>\n",
       "      <td>Yau Ma Tei</td>\n",
       "      <td>2024</td>\n",
       "      <td>3</td>\n",
       "      <td>31</td>\n",
       "      <td>NaN</td>\n",
       "      <td>NaN</td>\n",
       "      <td>27.1</td>\n",
       "      <td>84</td>\n",
       "      <td>0.1</td>\n",
       "      <td>0</td>\n",
       "      <td>Green</td>\n",
       "    </tr>\n",
       "  </tbody>\n",
       "</table>\n",
       "<p>1917 rows × 11 columns</p>\n",
       "</div>"
      ],
      "text/plain": [
       "        location  year  month  day  mean_windspeed  wind_direction  \\\n",
       "0     Yau Ma Tei  2019      1    1             NaN             NaN   \n",
       "1     Yau Ma Tei  2019      1    2             NaN             NaN   \n",
       "2     Yau Ma Tei  2019      1    3             NaN             NaN   \n",
       "3     Yau Ma Tei  2019      1    4             NaN             NaN   \n",
       "4     Yau Ma Tei  2019      1    5             NaN             NaN   \n",
       "...          ...   ...    ...  ...             ...             ...   \n",
       "1912  Yau Ma Tei  2024      3   27             NaN             NaN   \n",
       "1913  Yau Ma Tei  2024      3   28             NaN             NaN   \n",
       "1914  Yau Ma Tei  2024      3   29             NaN             NaN   \n",
       "1915  Yau Ma Tei  2024      3   30             NaN             NaN   \n",
       "1916  Yau Ma Tei  2024      3   31             NaN             NaN   \n",
       "\n",
       "      mean_tempurature  humidity rainfall  duration  color  \n",
       "0                 13.8        68    Trace         0  Green  \n",
       "1                 14.8        68    Trace         0  Green  \n",
       "2                 16.2        84      0.1         0  Green  \n",
       "3                 18.8        83      0.1         0  Green  \n",
       "4                 19.8        87        0         0  Green  \n",
       "...                ...       ...      ...       ...    ...  \n",
       "1912              22.4        82    Trace         0  Green  \n",
       "1913              24.7        82        0         0  Green  \n",
       "1914              25.5        81    Trace         0  Green  \n",
       "1915              26.4        80    Trace         0  Green  \n",
       "1916              27.1        84      0.1         0  Green  \n",
       "\n",
       "[1917 rows x 11 columns]"
      ]
     },
     "execution_count": 2,
     "metadata": {},
     "output_type": "execute_result"
    }
   ],
   "source": [
    "# Load the dataset\n",
    "data = pd.read_csv('data/Hong_Kong_Observatory.csv')\n",
    "\n",
    "data"
   ]
  },
  {
   "cell_type": "code",
   "execution_count": 21,
   "id": "e2957078-4c7f-49ea-bf8c-e84aef79feda",
   "metadata": {},
   "outputs": [
    {
     "name": "stdout",
     "output_type": "stream",
     "text": [
      "Null Values:\n",
      "      location   year  month    day  mean_windspeed  wind_direction  \\\n",
      "0        False  False  False  False            True            True   \n",
      "1        False  False  False  False            True            True   \n",
      "2        False  False  False  False            True            True   \n",
      "3        False  False  False  False            True            True   \n",
      "4        False  False  False  False            True            True   \n",
      "...        ...    ...    ...    ...             ...             ...   \n",
      "1912     False  False  False  False            True            True   \n",
      "1913     False  False  False  False            True            True   \n",
      "1914     False  False  False  False            True            True   \n",
      "1915     False  False  False  False            True            True   \n",
      "1916     False  False  False  False            True            True   \n",
      "\n",
      "      mean_tempurature  humidity  rainfall  duration  color  \n",
      "0                False     False     False     False  False  \n",
      "1                False     False     False     False  False  \n",
      "2                False     False     False     False  False  \n",
      "3                False     False     False     False  False  \n",
      "4                False     False     False     False  False  \n",
      "...                ...       ...       ...       ...    ...  \n",
      "1912             False     False     False     False  False  \n",
      "1913             False     False     False     False  False  \n",
      "1914             False     False     False     False  False  \n",
      "1915             False     False     False     False  False  \n",
      "1916             False     False     False     False  False  \n",
      "\n",
      "[1917 rows x 11 columns]\n",
      "\n",
      "Count of Null Values in Each Column:\n",
      "location               0\n",
      "year                   0\n",
      "month                  0\n",
      "day                    0\n",
      "mean_windspeed      1917\n",
      "wind_direction      1917\n",
      "mean_tempurature       0\n",
      "humidity               0\n",
      "rainfall               0\n",
      "duration               0\n",
      "color                  0\n",
      "dtype: int64\n"
     ]
    }
   ],
   "source": [
    "# Data Preprocessing\n",
    "# Handle missing values, encode categorical variables, scale numerical features if needed\n",
    "\n",
    "# Check for null values\n",
    "null_values = data.isnull()\n",
    "print(\"Null Values:\")\n",
    "print(null_values)\n",
    "print(\"\\nCount of Null Values in Each Column:\")\n",
    "print(null_values.sum())"
   ]
  },
  {
   "cell_type": "code",
   "execution_count": 22,
   "id": "390f0d8e-c53a-4381-bbdb-7b2a6cc7d70c",
   "metadata": {},
   "outputs": [
    {
     "name": "stdout",
     "output_type": "stream",
     "text": [
      "Data Types of Columns:\n",
      "location             object\n",
      "year                  int64\n",
      "month                 int64\n",
      "day                   int64\n",
      "mean_windspeed      float64\n",
      "wind_direction      float64\n",
      "mean_tempurature    float64\n",
      "humidity              int64\n",
      "rainfall             object\n",
      "duration              int64\n",
      "color                object\n",
      "dtype: object\n"
     ]
    }
   ],
   "source": [
    "df = pd.DataFrame(data)\n",
    "\n",
    "# Check data types of columns\n",
    "column_types = df.dtypes\n",
    "print(\"Data Types of Columns:\")\n",
    "print(column_types)"
   ]
  },
  {
   "cell_type": "code",
   "execution_count": 23,
   "id": "24d8712a-ac25-4bbc-877e-ec7ee82c9957",
   "metadata": {},
   "outputs": [
    {
     "name": "stdout",
     "output_type": "stream",
     "text": [
      "Numeric Columns:\n",
      "      year  month  day  mean_windspeed  wind_direction  mean_tempurature  \\\n",
      "0     2019      1    1             NaN             NaN              13.8   \n",
      "1     2019      1    2             NaN             NaN              14.8   \n",
      "2     2019      1    3             NaN             NaN              16.2   \n",
      "3     2019      1    4             NaN             NaN              18.8   \n",
      "4     2019      1    5             NaN             NaN              19.8   \n",
      "...    ...    ...  ...             ...             ...               ...   \n",
      "1912  2024      3   27             NaN             NaN              22.4   \n",
      "1913  2024      3   28             NaN             NaN              24.7   \n",
      "1914  2024      3   29             NaN             NaN              25.5   \n",
      "1915  2024      3   30             NaN             NaN              26.4   \n",
      "1916  2024      3   31             NaN             NaN              27.1   \n",
      "\n",
      "      humidity  duration  \n",
      "0           68         0  \n",
      "1           68         0  \n",
      "2           84         0  \n",
      "3           83         0  \n",
      "4           87         0  \n",
      "...        ...       ...  \n",
      "1912        82         0  \n",
      "1913        82         0  \n",
      "1914        81         0  \n",
      "1915        80         0  \n",
      "1916        84         0  \n",
      "\n",
      "[1917 rows x 8 columns]\n"
     ]
    }
   ],
   "source": [
    "# Select numeric columns\n",
    "numeric_columns = df.select_dtypes(include=['int', 'float'])\n",
    "\n",
    "# Display numeric columns\n",
    "print(\"Numeric Columns:\")\n",
    "print(numeric_columns)"
   ]
  },
  {
   "cell_type": "code",
   "execution_count": 7,
   "id": "48df627c-c86a-4c16-bdab-eb02857820f5",
   "metadata": {},
   "outputs": [
    {
     "name": "stdout",
     "output_type": "stream",
     "text": [
      "Number of string values in 'rainfall' column: 308\n",
      "Number of string values in 'mean_tempurature' column: 0\n",
      "Number of string values in 'humidity' column: 0\n",
      "Number of string values in 'mean_windspeed' column: 1917\n",
      "Number of string values in 'wind_direction' column: 1917\n"
     ]
    }
   ],
   "source": [
    "# Convert 'Value' column to numeric with coerce to turn strings into NaN\n",
    "numeric_values = pd.to_numeric(df['rainfall'], errors='coerce')\n",
    "num_strings = numeric_values.isna().sum()\n",
    "\n",
    "temp_numeric_values = pd.to_numeric(df['mean_tempurature'], errors='coerce')\n",
    "temp_num_strings = temp_numeric_values.isna().sum()\n",
    "\n",
    "humidity_numeric_values = pd.to_numeric(df['humidity'], errors='coerce')\n",
    "humidity_num_strings = humidity_numeric_values.isna().sum()\n",
    "\n",
    "windspeed_numeric_values = pd.to_numeric(df['mean_windspeed'], errors='coerce')\n",
    "windspeed_num_strings = windspeed_numeric_values.isna().sum()\n",
    "\n",
    "wind_direction_numeric_values = pd.to_numeric(df['wind_direction'], errors='coerce')\n",
    "wind_direction_num_strings = wind_direction_numeric_values.isna().sum()\n",
    "\n",
    "print(\"Number of string values in 'rainfall' column:\", num_strings)\n",
    "print(\"Number of string values in 'mean_tempurature' column:\", temp_num_strings)\n",
    "print(\"Number of string values in 'humidity' column:\", humidity_num_strings)\n",
    "print(\"Number of string values in 'mean_windspeed' column:\", windspeed_num_strings)\n",
    "print(\"Number of string values in 'wind_direction' column:\", wind_direction_num_strings)\n"
   ]
  },
  {
   "cell_type": "code",
   "execution_count": 8,
   "id": "37688a4d-1900-4a4b-872c-b178a8b9e395",
   "metadata": {},
   "outputs": [
    {
     "name": "stdout",
     "output_type": "stream",
     "text": [
      "DataFrame with string records in 'Value' column replaced with 0:\n",
      "        location  year  month  day  mean_windspeed  wind_direction  \\\n",
      "0     Yau Ma Tei  2019      1    1             NaN             NaN   \n",
      "1     Yau Ma Tei  2019      1    2             NaN             NaN   \n",
      "2     Yau Ma Tei  2019      1    3             NaN             NaN   \n",
      "3     Yau Ma Tei  2019      1    4             NaN             NaN   \n",
      "4     Yau Ma Tei  2019      1    5             NaN             NaN   \n",
      "...          ...   ...    ...  ...             ...             ...   \n",
      "1912  Yau Ma Tei  2024      3   27             NaN             NaN   \n",
      "1913  Yau Ma Tei  2024      3   28             NaN             NaN   \n",
      "1914  Yau Ma Tei  2024      3   29             NaN             NaN   \n",
      "1915  Yau Ma Tei  2024      3   30             NaN             NaN   \n",
      "1916  Yau Ma Tei  2024      3   31             NaN             NaN   \n",
      "\n",
      "      mean_tempurature  humidity  rainfall  duration  color  \n",
      "0                 13.8        68       0.1         0  Green  \n",
      "1                 14.8        68       0.1         0  Green  \n",
      "2                 16.2        84       0.1         0  Green  \n",
      "3                 18.8        83       0.1         0  Green  \n",
      "4                 19.8        87       0.0         0  Green  \n",
      "...                ...       ...       ...       ...    ...  \n",
      "1912              22.4        82       0.0         0  Green  \n",
      "1913              24.7        82       0.0         0  Green  \n",
      "1914              25.5        81       0.1         0  Green  \n",
      "1915              26.4        80       0.1         0  Green  \n",
      "1916              27.1        84       0.1         0  Green  \n",
      "\n",
      "[1917 rows x 11 columns]\n"
     ]
    }
   ],
   "source": [
    "# fill with previouse value fill missing values backward along columns\n",
    "df['rainfall'] = numeric_values.bfill(axis=0)\n",
    "df['mean_tempurature'] = temp_numeric_values.bfill(axis=0)\n",
    "df['humidity'] = humidity_numeric_values.bfill(axis=0)\n",
    "df['mean_windspeed'] = windspeed_numeric_values.bfill(axis=0)\n",
    "df['wind_direction'] = wind_direction_numeric_values.bfill(axis=0)\n",
    "\n",
    "print(\"DataFrame with string records in 'Value' column replaced with 0:\")\n",
    "print(df)"
   ]
  },
  {
   "cell_type": "code",
   "execution_count": 9,
   "id": "95d96ce7-d31d-4a8b-820d-620bd8c56c39",
   "metadata": {},
   "outputs": [
    {
     "name": "stdout",
     "output_type": "stream",
     "text": [
      "String records\n",
      "Empty DataFrame\n",
      "Columns: [location, year, month, day, mean_windspeed, wind_direction, mean_tempurature, humidity, rainfall, duration, color]\n",
      "Index: []\n",
      "        location  year  month  day  mean_windspeed  wind_direction  \\\n",
      "0     Yau Ma Tei  2019      1    1             NaN             NaN   \n",
      "1     Yau Ma Tei  2019      1    2             NaN             NaN   \n",
      "2     Yau Ma Tei  2019      1    3             NaN             NaN   \n",
      "3     Yau Ma Tei  2019      1    4             NaN             NaN   \n",
      "4     Yau Ma Tei  2019      1    5             NaN             NaN   \n",
      "...          ...   ...    ...  ...             ...             ...   \n",
      "1912  Yau Ma Tei  2024      3   27             NaN             NaN   \n",
      "1913  Yau Ma Tei  2024      3   28             NaN             NaN   \n",
      "1914  Yau Ma Tei  2024      3   29             NaN             NaN   \n",
      "1915  Yau Ma Tei  2024      3   30             NaN             NaN   \n",
      "1916  Yau Ma Tei  2024      3   31             NaN             NaN   \n",
      "\n",
      "      mean_tempurature  humidity  rainfall  duration  color  \n",
      "0                 13.8        68       0.1         0  Green  \n",
      "1                 14.8        68       0.1         0  Green  \n",
      "2                 16.2        84       0.1         0  Green  \n",
      "3                 18.8        83       0.1         0  Green  \n",
      "4                 19.8        87       0.0         0  Green  \n",
      "...                ...       ...       ...       ...    ...  \n",
      "1912              22.4        82       0.0         0  Green  \n",
      "1913              24.7        82       0.0         0  Green  \n",
      "1914              25.5        81       0.1         0  Green  \n",
      "1915              26.4        80       0.1         0  Green  \n",
      "1916              27.1        84       0.1         0  Green  \n",
      "\n",
      "[1917 rows x 11 columns]\n",
      "        location  year  month  day  mean_windspeed  wind_direction  \\\n",
      "0     Yau Ma Tei  2019      1    1             NaN             NaN   \n",
      "1     Yau Ma Tei  2019      1    2             NaN             NaN   \n",
      "2     Yau Ma Tei  2019      1    3             NaN             NaN   \n",
      "3     Yau Ma Tei  2019      1    4             NaN             NaN   \n",
      "4     Yau Ma Tei  2019      1    5             NaN             NaN   \n",
      "...          ...   ...    ...  ...             ...             ...   \n",
      "1912  Yau Ma Tei  2024      3   27             NaN             NaN   \n",
      "1913  Yau Ma Tei  2024      3   28             NaN             NaN   \n",
      "1914  Yau Ma Tei  2024      3   29             NaN             NaN   \n",
      "1915  Yau Ma Tei  2024      3   30             NaN             NaN   \n",
      "1916  Yau Ma Tei  2024      3   31             NaN             NaN   \n",
      "\n",
      "      mean_tempurature  humidity  rainfall  duration  color  \n",
      "0                 13.8        68       0.1         0  Green  \n",
      "1                 14.8        68       0.1         0  Green  \n",
      "2                 16.2        84       0.1         0  Green  \n",
      "3                 18.8        83       0.1         0  Green  \n",
      "4                 19.8        87       0.0         0  Green  \n",
      "...                ...       ...       ...       ...    ...  \n",
      "1912              22.4        82       0.0         0  Green  \n",
      "1913              24.7        82       0.0         0  Green  \n",
      "1914              25.5        81       0.1         0  Green  \n",
      "1915              26.4        80       0.1         0  Green  \n",
      "1916              27.1        84       0.1         0  Green  \n",
      "\n",
      "[1917 rows x 11 columns]\n",
      "Empty DataFrame\n",
      "Columns: [location, year, month, day, mean_windspeed, wind_direction, mean_tempurature, humidity, rainfall, duration, color]\n",
      "Index: []\n",
      "Empty DataFrame\n",
      "Columns: [location, year, month, day, mean_windspeed, wind_direction, mean_tempurature, humidity, rainfall, duration, color]\n",
      "Index: []\n"
     ]
    }
   ],
   "source": [
    "string_records = df[pd.to_numeric(df['humidity'], errors='coerce').isna()]\n",
    "mean_windspeed_string_records = df[pd.to_numeric(df['mean_windspeed'], errors='coerce').isna()]\n",
    "wind_direction_string_records = df[pd.to_numeric(df['wind_direction'], errors='coerce').isna()]\n",
    "mean_tempurature_string_records = df[pd.to_numeric(df['mean_tempurature'], errors='coerce').isna()]\n",
    "humidity_string_records = df[pd.to_numeric(df['humidity'], errors='coerce').isna()]\n",
    "\n",
    "print(\"String records\")\n",
    "print(string_records)\n",
    "print(mean_windspeed_string_records)\n",
    "print(wind_direction_string_records)\n",
    "print(mean_tempurature_string_records)\n",
    "print(humidity_string_records)\n"
   ]
  },
  {
   "cell_type": "code",
   "execution_count": 10,
   "id": "ebe96feb",
   "metadata": {},
   "outputs": [
    {
     "name": "stdout",
     "output_type": "stream",
     "text": [
      "        location  year  month  day  mean_windspeed  wind_direction  \\\n",
      "0     Yau Ma Tei  2019      1    1             NaN             NaN   \n",
      "1     Yau Ma Tei  2019      1    2             NaN             NaN   \n",
      "2     Yau Ma Tei  2019      1    3             NaN             NaN   \n",
      "3     Yau Ma Tei  2019      1    4             NaN             NaN   \n",
      "4     Yau Ma Tei  2019      1    5             NaN             NaN   \n",
      "...          ...   ...    ...  ...             ...             ...   \n",
      "1912  Yau Ma Tei  2024      3   27             NaN             NaN   \n",
      "1913  Yau Ma Tei  2024      3   28             NaN             NaN   \n",
      "1914  Yau Ma Tei  2024      3   29             NaN             NaN   \n",
      "1915  Yau Ma Tei  2024      3   30             NaN             NaN   \n",
      "1916  Yau Ma Tei  2024      3   31             NaN             NaN   \n",
      "\n",
      "      mean_tempurature  humidity  rainfall  duration  color  \n",
      "0                 13.8        68       0.1         0      0  \n",
      "1                 14.8        68       0.1         0      0  \n",
      "2                 16.2        84       0.1         0      0  \n",
      "3                 18.8        83       0.1         0      0  \n",
      "4                 19.8        87       0.0         0      0  \n",
      "...                ...       ...       ...       ...    ...  \n",
      "1912              22.4        82       0.0         0      0  \n",
      "1913              24.7        82       0.0         0      0  \n",
      "1914              25.5        81       0.1         0      0  \n",
      "1915              26.4        80       0.1         0      0  \n",
      "1916              27.1        84       0.1         0      0  \n",
      "\n",
      "[1917 rows x 11 columns]\n"
     ]
    }
   ],
   "source": [
    "type = {'Green': 0, 'Amber': 1, 'Red': 2, 'Black': 3 }\n",
    "df['color'] = df['color'].map(type)\n",
    "\n",
    "print(df)"
   ]
  },
  {
   "cell_type": "code",
   "execution_count": 11,
   "id": "30d76607",
   "metadata": {},
   "outputs": [
    {
     "name": "stdout",
     "output_type": "stream",
     "text": [
      "        location  year  month  day  mean_windspeed  wind_direction  \\\n",
      "0     Yau Ma Tei  2019      1    1             NaN             NaN   \n",
      "1     Yau Ma Tei  2019      1    2             NaN             NaN   \n",
      "2     Yau Ma Tei  2019      1    3             NaN             NaN   \n",
      "3     Yau Ma Tei  2019      1    4             NaN             NaN   \n",
      "4     Yau Ma Tei  2019      1    5             NaN             NaN   \n",
      "...          ...   ...    ...  ...             ...             ...   \n",
      "1912  Yau Ma Tei  2024      3   27             NaN             NaN   \n",
      "1913  Yau Ma Tei  2024      3   28             NaN             NaN   \n",
      "1914  Yau Ma Tei  2024      3   29             NaN             NaN   \n",
      "1915  Yau Ma Tei  2024      3   30             NaN             NaN   \n",
      "1916  Yau Ma Tei  2024      3   31             NaN             NaN   \n",
      "\n",
      "      mean_tempurature  humidity  rainfall  duration  color  flood  \n",
      "0                 13.8        68       0.1         0      0     20  \n",
      "1                 14.8        68       0.1         0      0     20  \n",
      "2                 16.2        84       0.1         0      0     20  \n",
      "3                 18.8        83       0.1         0      0     20  \n",
      "4                 19.8        87       0.0         0      0     20  \n",
      "...                ...       ...       ...       ...    ...    ...  \n",
      "1912              22.4        82       0.0         0      0     20  \n",
      "1913              24.7        82       0.0         0      0     20  \n",
      "1914              25.5        81       0.1         0      0     20  \n",
      "1915              26.4        80       0.1         0      0     20  \n",
      "1916              27.1        84       0.1         0      0     20  \n",
      "\n",
      "[1917 rows x 12 columns]\n"
     ]
    }
   ],
   "source": [
    "type = {0: 20, 1: 40, 2: 60, 3: 80 }\n",
    "df['flood'] = df['color'].map(type)\n",
    "\n",
    "print(df)"
   ]
  },
  {
   "cell_type": "code",
   "execution_count": 12,
   "id": "c94f9575-7028-4794-aa8e-15e122aa2f55",
   "metadata": {},
   "outputs": [
    {
     "name": "stdout",
     "output_type": "stream",
     "text": [
      "        location  year  month  day  mean_windspeed  wind_direction  \\\n",
      "0     Yau Ma Tei  2019      1    1             NaN             NaN   \n",
      "1     Yau Ma Tei  2019      1    2             NaN             NaN   \n",
      "2     Yau Ma Tei  2019      1    3             NaN             NaN   \n",
      "3     Yau Ma Tei  2019      1    4             NaN             NaN   \n",
      "4     Yau Ma Tei  2019      1    5             NaN             NaN   \n",
      "...          ...   ...    ...  ...             ...             ...   \n",
      "1912  Yau Ma Tei  2024      3   27             NaN             NaN   \n",
      "1913  Yau Ma Tei  2024      3   28             NaN             NaN   \n",
      "1914  Yau Ma Tei  2024      3   29             NaN             NaN   \n",
      "1915  Yau Ma Tei  2024      3   30             NaN             NaN   \n",
      "1916  Yau Ma Tei  2024      3   31             NaN             NaN   \n",
      "\n",
      "      mean_tempurature  humidity  rainfall  duration  color  flood       date  \n",
      "0                 13.8        68       0.1         0      0     20   1-1-2019  \n",
      "1                 14.8        68       0.1         0      0     20   2-1-2019  \n",
      "2                 16.2        84       0.1         0      0     20   3-1-2019  \n",
      "3                 18.8        83       0.1         0      0     20   4-1-2019  \n",
      "4                 19.8        87       0.0         0      0     20   5-1-2019  \n",
      "...                ...       ...       ...       ...    ...    ...        ...  \n",
      "1912              22.4        82       0.0         0      0     20  27-3-2024  \n",
      "1913              24.7        82       0.0         0      0     20  28-3-2024  \n",
      "1914              25.5        81       0.1         0      0     20  29-3-2024  \n",
      "1915              26.4        80       0.1         0      0     20  30-3-2024  \n",
      "1916              27.1        84       0.1         0      0     20  31-3-2024  \n",
      "\n",
      "[1917 rows x 13 columns]\n"
     ]
    }
   ],
   "source": [
    "# Feature Engineering\n",
    "# Extract relevant features from date columns, etc.\n",
    "\n",
    "#Create date column\n",
    "df['date'] = df['day'].astype(str) + '-' + df['month'].astype(str) + '-' + df['year'].astype(str)\n",
    "\n",
    "print(df)"
   ]
  },
  {
   "cell_type": "code",
   "execution_count": 13,
   "id": "080243b4-b2c9-4f4d-aaa5-660ac2a1d2b2",
   "metadata": {},
   "outputs": [
    {
     "data": {
      "text/plain": [
       "location                    object\n",
       "year                         int64\n",
       "month                        int64\n",
       "day                          int64\n",
       "mean_windspeed             float64\n",
       "wind_direction             float64\n",
       "mean_tempurature           float64\n",
       "humidity                     int64\n",
       "rainfall                   float64\n",
       "duration                     int64\n",
       "color                        int64\n",
       "flood                        int64\n",
       "date                datetime64[ns]\n",
       "dtype: object"
      ]
     },
     "execution_count": 13,
     "metadata": {},
     "output_type": "execute_result"
    }
   ],
   "source": [
    "# Convert 'Date' column to datetime with explicit format\n",
    "df['date'] = pd.to_datetime(df['date'], format='%d-%m-%Y')\n",
    "\n",
    "df.dtypes"
   ]
  },
  {
   "cell_type": "code",
   "execution_count": 14,
   "id": "c58fc9d7-f3f5-4320-8866-17ec0aa4970c",
   "metadata": {},
   "outputs": [
    {
     "name": "stdout",
     "output_type": "stream",
     "text": [
      "        location  year  month  day  mean_windspeed  wind_direction  \\\n",
      "0     Yau Ma Tei  2019      1    1             NaN             NaN   \n",
      "1     Yau Ma Tei  2019      1    2             NaN             NaN   \n",
      "2     Yau Ma Tei  2019      1    3             NaN             NaN   \n",
      "3     Yau Ma Tei  2019      1    4             NaN             NaN   \n",
      "4     Yau Ma Tei  2019      1    5             NaN             NaN   \n",
      "...          ...   ...    ...  ...             ...             ...   \n",
      "1912  Yau Ma Tei  2024      3   27             NaN             NaN   \n",
      "1913  Yau Ma Tei  2024      3   28             NaN             NaN   \n",
      "1914  Yau Ma Tei  2024      3   29             NaN             NaN   \n",
      "1915  Yau Ma Tei  2024      3   30             NaN             NaN   \n",
      "1916  Yau Ma Tei  2024      3   31             NaN             NaN   \n",
      "\n",
      "      mean_tempurature  humidity  rainfall  duration  color  flood       date  \n",
      "0                 13.8        68       0.1         0      0     20 2019-01-01  \n",
      "1                 14.8        68       0.1         0      0     20 2019-01-02  \n",
      "2                 16.2        84       0.1         0      0     20 2019-01-03  \n",
      "3                 18.8        83       0.1         0      0     20 2019-01-04  \n",
      "4                 19.8        87       0.0         0      0     20 2019-01-05  \n",
      "...                ...       ...       ...       ...    ...    ...        ...  \n",
      "1912              22.4        82       0.0         0      0     20 2024-03-27  \n",
      "1913              24.7        82       0.0         0      0     20 2024-03-28  \n",
      "1914              25.5        81       0.1         0      0     20 2024-03-29  \n",
      "1915              26.4        80       0.1         0      0     20 2024-03-30  \n",
      "1916              27.1        84       0.1         0      0     20 2024-03-31  \n",
      "\n",
      "[1917 rows x 13 columns]\n"
     ]
    }
   ],
   "source": [
    "df.set_index('date')\n",
    "print(df)"
   ]
  },
  {
   "cell_type": "code",
   "execution_count": 15,
   "id": "0cae83f3-629e-4304-81d7-eae3be21898c",
   "metadata": {},
   "outputs": [
    {
     "data": {
      "text/plain": [
       "<Axes: >"
      ]
     },
     "execution_count": 15,
     "metadata": {},
     "output_type": "execute_result"
    },
    {
     "data": {
      "image/png": "[encoded data removed]",
      "text/plain": [
       "<Figure size 640x480 with 1 Axes>"
      ]
     },
     "metadata": {},
     "output_type": "display_data"
    }
   ],
   "source": [
    "df [['rainfall','day']].plot()"
   ]
  },
  {
   "cell_type": "code",
   "execution_count": 16,
   "id": "18d1b270",
   "metadata": {},
   "outputs": [
    {
     "name": "stdout",
     "output_type": "stream",
     "text": [
      "location               0\n",
      "year                   0\n",
      "month                  0\n",
      "day                    0\n",
      "mean_windspeed      1917\n",
      "wind_direction      1917\n",
      "mean_tempurature       0\n",
      "humidity               0\n",
      "rainfall               0\n",
      "duration               0\n",
      "color                  0\n",
      "flood                  0\n",
      "date                   0\n",
      "dtype: int64\n"
     ]
    }
   ],
   "source": [
    "nan_values = df.isna().sum()\n",
    "\n",
    "print(nan_values)"
   ]
  },
  {
   "cell_type": "code",
   "execution_count": 17,
   "id": "b0cfb016-953c-4053-ad8e-af53f91e56b8",
   "metadata": {},
   "outputs": [
    {
     "name": "stdout",
     "output_type": "stream",
     "text": [
      "Print X\n",
      "           date  mean_windspeed  wind_direction  mean_tempurature  humidity  \\\n",
      "0    2019-01-01             NaN             NaN              13.8        68   \n",
      "1    2019-01-02             NaN             NaN              14.8        68   \n",
      "2    2019-01-03             NaN             NaN              16.2        84   \n",
      "3    2019-01-04             NaN             NaN              18.8        83   \n",
      "4    2019-01-05             NaN             NaN              19.8        87   \n",
      "...         ...             ...             ...               ...       ...   \n",
      "1912 2024-03-27             NaN             NaN              22.4        82   \n",
      "1913 2024-03-28             NaN             NaN              24.7        82   \n",
      "1914 2024-03-29             NaN             NaN              25.5        81   \n",
      "1915 2024-03-30             NaN             NaN              26.4        80   \n",
      "1916 2024-03-31             NaN             NaN              27.1        84   \n",
      "\n",
      "      duration  rainfall  \n",
      "0            0       0.1  \n",
      "1            0       0.1  \n",
      "2            0       0.1  \n",
      "3            0       0.1  \n",
      "4            0       0.0  \n",
      "...        ...       ...  \n",
      "1912         0       0.0  \n",
      "1913         0       0.0  \n",
      "1914         0       0.1  \n",
      "1915         0       0.1  \n",
      "1916         0       0.1  \n",
      "\n",
      "[1917 rows x 7 columns]\n",
      "Print y\n",
      "0       20\n",
      "1       20\n",
      "2       20\n",
      "3       20\n",
      "4       20\n",
      "        ..\n",
      "1912    20\n",
      "1913    20\n",
      "1914    20\n",
      "1915    20\n",
      "1916    20\n",
      "Name: flood, Length: 1917, dtype: int64\n"
     ]
    }
   ],
   "source": [
    "\n",
    "# Split the data into train and test sets\n",
    "X = df[['date', 'mean_windspeed', 'wind_direction', 'mean_tempurature', 'humidity', 'duration','rainfall']]\n",
    "y = df['flood']\n",
    "\n",
    "print('Print X')\n",
    "print(X)\n",
    "\n",
    "print('Print y')\n",
    "print(y)\n"
   ]
  },
  {
   "cell_type": "code",
   "execution_count": 20,
   "id": "67314c99-9593-439b-9213-a6056d9ad3c2",
   "metadata": {},
   "outputs": [],
   "source": [
    "\n",
    "X_train, X_test, y_train, y_test = train_test_split(X.drop(['date'], axis = 1), y, test_size=0.2, random_state=42)\n"
   ]
  },
  {
   "cell_type": "code",
   "execution_count": 19,
   "id": "b3c7d2ba-d4dd-49c9-954a-d92fa0cd27c9",
   "metadata": {},
   "outputs": [
    {
     "ename": "ValueError",
     "evalue": "Input X contains NaN.\nLinearRegression does not accept missing values encoded as NaN natively. For supervised learning, you might want to consider sklearn.ensemble.HistGradientBoostingClassifier and Regressor which accept missing values encoded as NaNs natively. Alternatively, it is possible to preprocess the data, for instance by using an imputer transformer in a pipeline or drop samples with missing values. See https://scikit-learn.org/stable/modules/impute.html You can find a list of all estimators that handle NaN values at the following page: https://scikit-learn.org/stable/modules/impute.html#estimators-that-handle-nan-values",
     "output_type": "error",
     "traceback": [
      "\u001b[1;31m---------------------------------------------------------------------------\u001b[0m",
      "\u001b[1;31mValueError\u001b[0m                                Traceback (most recent call last)",
      "Cell \u001b[1;32mIn[19], line 3\u001b[0m\n\u001b[0;32m      1\u001b[0m \u001b[38;5;66;03m# Select a model and train it\u001b[39;00m\n\u001b[0;32m      2\u001b[0m model \u001b[38;5;241m=\u001b[39m LinearRegression()\n\u001b[1;32m----> 3\u001b[0m \u001b[43mmodel\u001b[49m\u001b[38;5;241;43m.\u001b[39;49m\u001b[43mfit\u001b[49m\u001b[43m(\u001b[49m\u001b[43mX_train\u001b[49m\u001b[43m,\u001b[49m\u001b[43m \u001b[49m\u001b[43my_train\u001b[49m\u001b[43m)\u001b[49m\n",
      "File \u001b[1;32m~\\AppData\\Local\\Programs\\Python\\Python312\\Lib\\site-packages\\sklearn\\base.py:1474\u001b[0m, in \u001b[0;36m_fit_context.<locals>.decorator.<locals>.wrapper\u001b[1;34m(estimator, *args, **kwargs)\u001b[0m\n\u001b[0;32m   1467\u001b[0m     estimator\u001b[38;5;241m.\u001b[39m_validate_params()\n\u001b[0;32m   1469\u001b[0m \u001b[38;5;28;01mwith\u001b[39;00m config_context(\n\u001b[0;32m   1470\u001b[0m     skip_parameter_validation\u001b[38;5;241m=\u001b[39m(\n\u001b[0;32m   1471\u001b[0m         prefer_skip_nested_validation \u001b[38;5;129;01mor\u001b[39;00m global_skip_validation\n\u001b[0;32m   1472\u001b[0m     )\n\u001b[0;32m   1473\u001b[0m ):\n\u001b[1;32m-> 1474\u001b[0m     \u001b[38;5;28;01mreturn\u001b[39;00m \u001b[43mfit_method\u001b[49m\u001b[43m(\u001b[49m\u001b[43mestimator\u001b[49m\u001b[43m,\u001b[49m\u001b[43m \u001b[49m\u001b[38;5;241;43m*\u001b[39;49m\u001b[43margs\u001b[49m\u001b[43m,\u001b[49m\u001b[43m \u001b[49m\u001b[38;5;241;43m*\u001b[39;49m\u001b[38;5;241;43m*\u001b[39;49m\u001b[43mkwargs\u001b[49m\u001b[43m)\u001b[49m\n",
      "File \u001b[1;32m~\\AppData\\Local\\Programs\\Python\\Python312\\Lib\\site-packages\\sklearn\\linear_model\\_base.py:578\u001b[0m, in \u001b[0;36mLinearRegression.fit\u001b[1;34m(self, X, y, sample_weight)\u001b[0m\n\u001b[0;32m    574\u001b[0m n_jobs_ \u001b[38;5;241m=\u001b[39m \u001b[38;5;28mself\u001b[39m\u001b[38;5;241m.\u001b[39mn_jobs\n\u001b[0;32m    576\u001b[0m accept_sparse \u001b[38;5;241m=\u001b[39m \u001b[38;5;28;01mFalse\u001b[39;00m \u001b[38;5;28;01mif\u001b[39;00m \u001b[38;5;28mself\u001b[39m\u001b[38;5;241m.\u001b[39mpositive \u001b[38;5;28;01melse\u001b[39;00m [\u001b[38;5;124m\"\u001b[39m\u001b[38;5;124mcsr\u001b[39m\u001b[38;5;124m\"\u001b[39m, \u001b[38;5;124m\"\u001b[39m\u001b[38;5;124mcsc\u001b[39m\u001b[38;5;124m\"\u001b[39m, \u001b[38;5;124m\"\u001b[39m\u001b[38;5;124mcoo\u001b[39m\u001b[38;5;124m\"\u001b[39m]\n\u001b[1;32m--> 578\u001b[0m X, y \u001b[38;5;241m=\u001b[39m \u001b[38;5;28;43mself\u001b[39;49m\u001b[38;5;241;43m.\u001b[39;49m\u001b[43m_validate_data\u001b[49m\u001b[43m(\u001b[49m\n\u001b[0;32m    579\u001b[0m \u001b[43m    \u001b[49m\u001b[43mX\u001b[49m\u001b[43m,\u001b[49m\u001b[43m \u001b[49m\u001b[43my\u001b[49m\u001b[43m,\u001b[49m\u001b[43m \u001b[49m\u001b[43maccept_sparse\u001b[49m\u001b[38;5;241;43m=\u001b[39;49m\u001b[43maccept_sparse\u001b[49m\u001b[43m,\u001b[49m\u001b[43m \u001b[49m\u001b[43my_numeric\u001b[49m\u001b[38;5;241;43m=\u001b[39;49m\u001b[38;5;28;43;01mTrue\u001b[39;49;00m\u001b[43m,\u001b[49m\u001b[43m \u001b[49m\u001b[43mmulti_output\u001b[49m\u001b[38;5;241;43m=\u001b[39;49m\u001b[38;5;28;43;01mTrue\u001b[39;49;00m\n\u001b[0;32m    580\u001b[0m \u001b[43m\u001b[49m\u001b[43m)\u001b[49m\n\u001b[0;32m    582\u001b[0m has_sw \u001b[38;5;241m=\u001b[39m sample_weight \u001b[38;5;129;01mis\u001b[39;00m \u001b[38;5;129;01mnot\u001b[39;00m \u001b[38;5;28;01mNone\u001b[39;00m\n\u001b[0;32m    583\u001b[0m \u001b[38;5;28;01mif\u001b[39;00m has_sw:\n",
      "File \u001b[1;32m~\\AppData\\Local\\Programs\\Python\\Python312\\Lib\\site-packages\\sklearn\\base.py:650\u001b[0m, in \u001b[0;36mBaseEstimator._validate_data\u001b[1;34m(self, X, y, reset, validate_separately, cast_to_ndarray, **check_params)\u001b[0m\n\u001b[0;32m    648\u001b[0m         y \u001b[38;5;241m=\u001b[39m check_array(y, input_name\u001b[38;5;241m=\u001b[39m\u001b[38;5;124m\"\u001b[39m\u001b[38;5;124my\u001b[39m\u001b[38;5;124m\"\u001b[39m, \u001b[38;5;241m*\u001b[39m\u001b[38;5;241m*\u001b[39mcheck_y_params)\n\u001b[0;32m    649\u001b[0m     \u001b[38;5;28;01melse\u001b[39;00m:\n\u001b[1;32m--> 650\u001b[0m         X, y \u001b[38;5;241m=\u001b[39m \u001b[43mcheck_X_y\u001b[49m\u001b[43m(\u001b[49m\u001b[43mX\u001b[49m\u001b[43m,\u001b[49m\u001b[43m \u001b[49m\u001b[43my\u001b[49m\u001b[43m,\u001b[49m\u001b[43m \u001b[49m\u001b[38;5;241;43m*\u001b[39;49m\u001b[38;5;241;43m*\u001b[39;49m\u001b[43mcheck_params\u001b[49m\u001b[43m)\u001b[49m\n\u001b[0;32m    651\u001b[0m     out \u001b[38;5;241m=\u001b[39m X, y\n\u001b[0;32m    653\u001b[0m \u001b[38;5;28;01mif\u001b[39;00m \u001b[38;5;129;01mnot\u001b[39;00m no_val_X \u001b[38;5;129;01mand\u001b[39;00m check_params\u001b[38;5;241m.\u001b[39mget(\u001b[38;5;124m\"\u001b[39m\u001b[38;5;124mensure_2d\u001b[39m\u001b[38;5;124m\"\u001b[39m, \u001b[38;5;28;01mTrue\u001b[39;00m):\n",
      "File \u001b[1;32m~\\AppData\\Local\\Programs\\Python\\Python312\\Lib\\site-packages\\sklearn\\utils\\validation.py:1263\u001b[0m, in \u001b[0;36mcheck_X_y\u001b[1;34m(X, y, accept_sparse, accept_large_sparse, dtype, order, copy, force_all_finite, ensure_2d, allow_nd, multi_output, ensure_min_samples, ensure_min_features, y_numeric, estimator)\u001b[0m\n\u001b[0;32m   1258\u001b[0m         estimator_name \u001b[38;5;241m=\u001b[39m _check_estimator_name(estimator)\n\u001b[0;32m   1259\u001b[0m     \u001b[38;5;28;01mraise\u001b[39;00m \u001b[38;5;167;01mValueError\u001b[39;00m(\n\u001b[0;32m   1260\u001b[0m         \u001b[38;5;124mf\u001b[39m\u001b[38;5;124m\"\u001b[39m\u001b[38;5;132;01m{\u001b[39;00mestimator_name\u001b[38;5;132;01m}\u001b[39;00m\u001b[38;5;124m requires y to be passed, but the target y is None\u001b[39m\u001b[38;5;124m\"\u001b[39m\n\u001b[0;32m   1261\u001b[0m     )\n\u001b[1;32m-> 1263\u001b[0m X \u001b[38;5;241m=\u001b[39m \u001b[43mcheck_array\u001b[49m\u001b[43m(\u001b[49m\n\u001b[0;32m   1264\u001b[0m \u001b[43m    \u001b[49m\u001b[43mX\u001b[49m\u001b[43m,\u001b[49m\n\u001b[0;32m   1265\u001b[0m \u001b[43m    \u001b[49m\u001b[43maccept_sparse\u001b[49m\u001b[38;5;241;43m=\u001b[39;49m\u001b[43maccept_sparse\u001b[49m\u001b[43m,\u001b[49m\n\u001b[0;32m   1266\u001b[0m \u001b[43m    \u001b[49m\u001b[43maccept_large_sparse\u001b[49m\u001b[38;5;241;43m=\u001b[39;49m\u001b[43maccept_large_sparse\u001b[49m\u001b[43m,\u001b[49m\n\u001b[0;32m   1267\u001b[0m \u001b[43m    \u001b[49m\u001b[43mdtype\u001b[49m\u001b[38;5;241;43m=\u001b[39;49m\u001b[43mdtype\u001b[49m\u001b[43m,\u001b[49m\n\u001b[0;32m   1268\u001b[0m \u001b[43m    \u001b[49m\u001b[43morder\u001b[49m\u001b[38;5;241;43m=\u001b[39;49m\u001b[43morder\u001b[49m\u001b[43m,\u001b[49m\n\u001b[0;32m   1269\u001b[0m \u001b[43m    \u001b[49m\u001b[43mcopy\u001b[49m\u001b[38;5;241;43m=\u001b[39;49m\u001b[43mcopy\u001b[49m\u001b[43m,\u001b[49m\n\u001b[0;32m   1270\u001b[0m \u001b[43m    \u001b[49m\u001b[43mforce_all_finite\u001b[49m\u001b[38;5;241;43m=\u001b[39;49m\u001b[43mforce_all_finite\u001b[49m\u001b[43m,\u001b[49m\n\u001b[0;32m   1271\u001b[0m \u001b[43m    \u001b[49m\u001b[43mensure_2d\u001b[49m\u001b[38;5;241;43m=\u001b[39;49m\u001b[43mensure_2d\u001b[49m\u001b[43m,\u001b[49m\n\u001b[0;32m   1272\u001b[0m \u001b[43m    \u001b[49m\u001b[43mallow_nd\u001b[49m\u001b[38;5;241;43m=\u001b[39;49m\u001b[43mallow_nd\u001b[49m\u001b[43m,\u001b[49m\n\u001b[0;32m   1273\u001b[0m \u001b[43m    \u001b[49m\u001b[43mensure_min_samples\u001b[49m\u001b[38;5;241;43m=\u001b[39;49m\u001b[43mensure_min_samples\u001b[49m\u001b[43m,\u001b[49m\n\u001b[0;32m   1274\u001b[0m \u001b[43m    \u001b[49m\u001b[43mensure_min_features\u001b[49m\u001b[38;5;241;43m=\u001b[39;49m\u001b[43mensure_min_features\u001b[49m\u001b[43m,\u001b[49m\n\u001b[0;32m   1275\u001b[0m \u001b[43m    \u001b[49m\u001b[43mestimator\u001b[49m\u001b[38;5;241;43m=\u001b[39;49m\u001b[43mestimator\u001b[49m\u001b[43m,\u001b[49m\n\u001b[0;32m   1276\u001b[0m \u001b[43m    \u001b[49m\u001b[43minput_name\u001b[49m\u001b[38;5;241;43m=\u001b[39;49m\u001b[38;5;124;43m\"\u001b[39;49m\u001b[38;5;124;43mX\u001b[39;49m\u001b[38;5;124;43m\"\u001b[39;49m\u001b[43m,\u001b[49m\n\u001b[0;32m   1277\u001b[0m \u001b[43m\u001b[49m\u001b[43m)\u001b[49m\n\u001b[0;32m   1279\u001b[0m y \u001b[38;5;241m=\u001b[39m _check_y(y, multi_output\u001b[38;5;241m=\u001b[39mmulti_output, y_numeric\u001b[38;5;241m=\u001b[39my_numeric, estimator\u001b[38;5;241m=\u001b[39mestimator)\n\u001b[0;32m   1281\u001b[0m check_consistent_length(X, y)\n",
      "File \u001b[1;32m~\\AppData\\Local\\Programs\\Python\\Python312\\Lib\\site-packages\\sklearn\\utils\\validation.py:1049\u001b[0m, in \u001b[0;36mcheck_array\u001b[1;34m(array, accept_sparse, accept_large_sparse, dtype, order, copy, force_all_finite, ensure_2d, allow_nd, ensure_min_samples, ensure_min_features, estimator, input_name)\u001b[0m\n\u001b[0;32m   1043\u001b[0m     \u001b[38;5;28;01mraise\u001b[39;00m \u001b[38;5;167;01mValueError\u001b[39;00m(\n\u001b[0;32m   1044\u001b[0m         \u001b[38;5;124m\"\u001b[39m\u001b[38;5;124mFound array with dim \u001b[39m\u001b[38;5;132;01m%d\u001b[39;00m\u001b[38;5;124m. \u001b[39m\u001b[38;5;132;01m%s\u001b[39;00m\u001b[38;5;124m expected <= 2.\u001b[39m\u001b[38;5;124m\"\u001b[39m\n\u001b[0;32m   1045\u001b[0m         \u001b[38;5;241m%\u001b[39m (array\u001b[38;5;241m.\u001b[39mndim, estimator_name)\n\u001b[0;32m   1046\u001b[0m     )\n\u001b[0;32m   1048\u001b[0m \u001b[38;5;28;01mif\u001b[39;00m force_all_finite:\n\u001b[1;32m-> 1049\u001b[0m     \u001b[43m_assert_all_finite\u001b[49m\u001b[43m(\u001b[49m\n\u001b[0;32m   1050\u001b[0m \u001b[43m        \u001b[49m\u001b[43marray\u001b[49m\u001b[43m,\u001b[49m\n\u001b[0;32m   1051\u001b[0m \u001b[43m        \u001b[49m\u001b[43minput_name\u001b[49m\u001b[38;5;241;43m=\u001b[39;49m\u001b[43minput_name\u001b[49m\u001b[43m,\u001b[49m\n\u001b[0;32m   1052\u001b[0m \u001b[43m        \u001b[49m\u001b[43mestimator_name\u001b[49m\u001b[38;5;241;43m=\u001b[39;49m\u001b[43mestimator_name\u001b[49m\u001b[43m,\u001b[49m\n\u001b[0;32m   1053\u001b[0m \u001b[43m        \u001b[49m\u001b[43mallow_nan\u001b[49m\u001b[38;5;241;43m=\u001b[39;49m\u001b[43mforce_all_finite\u001b[49m\u001b[43m \u001b[49m\u001b[38;5;241;43m==\u001b[39;49m\u001b[43m \u001b[49m\u001b[38;5;124;43m\"\u001b[39;49m\u001b[38;5;124;43mallow-nan\u001b[39;49m\u001b[38;5;124;43m\"\u001b[39;49m\u001b[43m,\u001b[49m\n\u001b[0;32m   1054\u001b[0m \u001b[43m    \u001b[49m\u001b[43m)\u001b[49m\n\u001b[0;32m   1056\u001b[0m \u001b[38;5;28;01mif\u001b[39;00m copy:\n\u001b[0;32m   1057\u001b[0m     \u001b[38;5;28;01mif\u001b[39;00m _is_numpy_namespace(xp):\n\u001b[0;32m   1058\u001b[0m         \u001b[38;5;66;03m# only make a copy if `array` and `array_orig` may share memory`\u001b[39;00m\n",
      "File \u001b[1;32m~\\AppData\\Local\\Programs\\Python\\Python312\\Lib\\site-packages\\sklearn\\utils\\validation.py:126\u001b[0m, in \u001b[0;36m_assert_all_finite\u001b[1;34m(X, allow_nan, msg_dtype, estimator_name, input_name)\u001b[0m\n\u001b[0;32m    123\u001b[0m \u001b[38;5;28;01mif\u001b[39;00m first_pass_isfinite:\n\u001b[0;32m    124\u001b[0m     \u001b[38;5;28;01mreturn\u001b[39;00m\n\u001b[1;32m--> 126\u001b[0m \u001b[43m_assert_all_finite_element_wise\u001b[49m\u001b[43m(\u001b[49m\n\u001b[0;32m    127\u001b[0m \u001b[43m    \u001b[49m\u001b[43mX\u001b[49m\u001b[43m,\u001b[49m\n\u001b[0;32m    128\u001b[0m \u001b[43m    \u001b[49m\u001b[43mxp\u001b[49m\u001b[38;5;241;43m=\u001b[39;49m\u001b[43mxp\u001b[49m\u001b[43m,\u001b[49m\n\u001b[0;32m    129\u001b[0m \u001b[43m    \u001b[49m\u001b[43mallow_nan\u001b[49m\u001b[38;5;241;43m=\u001b[39;49m\u001b[43mallow_nan\u001b[49m\u001b[43m,\u001b[49m\n\u001b[0;32m    130\u001b[0m \u001b[43m    \u001b[49m\u001b[43mmsg_dtype\u001b[49m\u001b[38;5;241;43m=\u001b[39;49m\u001b[43mmsg_dtype\u001b[49m\u001b[43m,\u001b[49m\n\u001b[0;32m    131\u001b[0m \u001b[43m    \u001b[49m\u001b[43mestimator_name\u001b[49m\u001b[38;5;241;43m=\u001b[39;49m\u001b[43mestimator_name\u001b[49m\u001b[43m,\u001b[49m\n\u001b[0;32m    132\u001b[0m \u001b[43m    \u001b[49m\u001b[43minput_name\u001b[49m\u001b[38;5;241;43m=\u001b[39;49m\u001b[43minput_name\u001b[49m\u001b[43m,\u001b[49m\n\u001b[0;32m    133\u001b[0m \u001b[43m\u001b[49m\u001b[43m)\u001b[49m\n",
      "File \u001b[1;32m~\\AppData\\Local\\Programs\\Python\\Python312\\Lib\\site-packages\\sklearn\\utils\\validation.py:175\u001b[0m, in \u001b[0;36m_assert_all_finite_element_wise\u001b[1;34m(X, xp, allow_nan, msg_dtype, estimator_name, input_name)\u001b[0m\n\u001b[0;32m    158\u001b[0m \u001b[38;5;28;01mif\u001b[39;00m estimator_name \u001b[38;5;129;01mand\u001b[39;00m input_name \u001b[38;5;241m==\u001b[39m \u001b[38;5;124m\"\u001b[39m\u001b[38;5;124mX\u001b[39m\u001b[38;5;124m\"\u001b[39m \u001b[38;5;129;01mand\u001b[39;00m has_nan_error:\n\u001b[0;32m    159\u001b[0m     \u001b[38;5;66;03m# Improve the error message on how to handle missing values in\u001b[39;00m\n\u001b[0;32m    160\u001b[0m     \u001b[38;5;66;03m# scikit-learn.\u001b[39;00m\n\u001b[0;32m    161\u001b[0m     msg_err \u001b[38;5;241m+\u001b[39m\u001b[38;5;241m=\u001b[39m (\n\u001b[0;32m    162\u001b[0m         \u001b[38;5;124mf\u001b[39m\u001b[38;5;124m\"\u001b[39m\u001b[38;5;130;01m\\n\u001b[39;00m\u001b[38;5;132;01m{\u001b[39;00mestimator_name\u001b[38;5;132;01m}\u001b[39;00m\u001b[38;5;124m does not accept missing values\u001b[39m\u001b[38;5;124m\"\u001b[39m\n\u001b[0;32m    163\u001b[0m         \u001b[38;5;124m\"\u001b[39m\u001b[38;5;124m encoded as NaN natively. For supervised learning, you might want\u001b[39m\u001b[38;5;124m\"\u001b[39m\n\u001b[1;32m   (...)\u001b[0m\n\u001b[0;32m    173\u001b[0m         \u001b[38;5;124m\"\u001b[39m\u001b[38;5;124m#estimators-that-handle-nan-values\u001b[39m\u001b[38;5;124m\"\u001b[39m\n\u001b[0;32m    174\u001b[0m     )\n\u001b[1;32m--> 175\u001b[0m \u001b[38;5;28;01mraise\u001b[39;00m \u001b[38;5;167;01mValueError\u001b[39;00m(msg_err)\n",
      "\u001b[1;31mValueError\u001b[0m: Input X contains NaN.\nLinearRegression does not accept missing values encoded as NaN natively. For supervised learning, you might want to consider sklearn.ensemble.HistGradientBoostingClassifier and Regressor which accept missing values encoded as NaNs natively. Alternatively, it is possible to preprocess the data, for instance by using an imputer transformer in a pipeline or drop samples with missing values. See https://scikit-learn.org/stable/modules/impute.html You can find a list of all estimators that handle NaN values at the following page: https://scikit-learn.org/stable/modules/impute.html#estimators-that-handle-nan-values"
     ]
    }
   ],
   "source": [
    "# Select a model and train it\n",
    "model = LinearRegression()\n",
    "model.fit(X_train, y_train)"
   ]
  },
  {
   "cell_type": "code",
   "execution_count": 60,
   "id": "8c23bb45-b251-4b71-bde7-2a6c2cb1325f",
   "metadata": {},
   "outputs": [
    {
     "name": "stdout",
     "output_type": "stream",
     "text": [
      "Mean Absolute Error: 1.2986861196090556\n"
     ]
    }
   ],
   "source": [
    "# Evaluate the model\n",
    "y_pred = model.predict(X_test)\n",
    "mae = mean_absolute_error(y_test, y_pred)\n",
    "print('Mean Absolute Error:', mae)"
   ]
  },
  {
   "cell_type": "code",
   "execution_count": 67,
   "id": "e94d6210-3d49-4095-8838-0229238f3adc",
   "metadata": {},
   "outputs": [
    {
     "name": "stdout",
     "output_type": "stream",
     "text": [
      "[76.7228515  30.83603901 48.22410504 23.88208229 22.47753902]\n"
     ]
    }
   ],
   "source": [
    "# Predict rainfall for new data points\n",
    "# For example:\n",
    "new_data = pd.DataFrame({\n",
    "    'Mean_Windspeed' : [10, 23, 23, 224, 34] \n",
    "    ,'Wind_Direction' : [100, 124, 134, 253, 56]\n",
    "    ,'Mean_Tempurature': [25, 34, 45, 56, 77]\n",
    "    ,'Humidity' : [60, 23, 56, 77, 88]\n",
    "    ,'Duration' : [1160, 203, 556, 177, 10]\n",
    "    ,'Rainfall' : [124, 46, 70, 21, 0.5]\n",
    "    })\n",
    "predicted_rainfall = model.predict(new_data)\n",
    "print(predicted_rainfall)"
   ]
  },
  {
   "cell_type": "code",
   "execution_count": 68,
   "id": "c9df5fac",
   "metadata": {},
   "outputs": [],
   "source": [
    "import pickle"
   ]
  },
  {
   "cell_type": "code",
   "execution_count": 70,
   "id": "fd81db7d",
   "metadata": {},
   "outputs": [],
   "source": [
    "# loading the saved model\n",
    "filename = 'flood_forecast_model.sav'\n",
    "pickle.dump(model, open(filename, 'wb'))"
   ]
  },
  {
   "cell_type": "code",
   "execution_count": 71,
   "id": "f9addcea",
   "metadata": {},
   "outputs": [],
   "source": [
    "# loading the saved model\n",
    "loaded_model = pickle.load(open('flood_forecast_model.sav', 'rb'))"
   ]
  },
  {
   "cell_type": "code",
   "execution_count": 73,
   "id": "f66a82d0",
   "metadata": {},
   "outputs": [
    {
     "name": "stdout",
     "output_type": "stream",
     "text": [
      "Predicted Flood: [26.07159281 30.83603901 48.22410504 23.88208229 22.47753902]\n"
     ]
    }
   ],
   "source": [
    "input_data = {\n",
    "    'Mean_Windspeed' : [10, 23, 23, 224, 34] \n",
    "    ,'Wind_Direction' : [10, 124, 134, 253, 56]\n",
    "    ,'Mean_Tempurature': [25, 34, 45, 56, 77]\n",
    "    ,'Humidity' : [60, 23, 56, 77, 88]\n",
    "    ,'Duration' : [116, 203, 556, 177, 10]\n",
    "    ,'Rainfall' : [14, 46, 70, 21, 0.5]\n",
    "    }\n",
    "\n",
    "new_data = pd.DataFrame(input_data)\n",
    "predicted_rainfall = loaded_model.predict(new_data)\n",
    "print('Predicted Flood:', predicted_rainfall)"
   ]
  }
 ],
 "metadata": {
  "kernelspec": {
   "display_name": "Python 3 (ipykernel)",
   "language": "python",
   "name": "python3"
  },
  "language_info": {
   "codemirror_mode": {
    "name": "ipython",
    "version": 3
   },
   "file_extension": ".py",
   "mimetype": "text/x-python",
   "name": "python",
   "nbconvert_exporter": "python",
   "pygments_lexer": "ipython3",
   "version": "3.12.2"
  }
 },
 "nbformat": 4,
 "nbformat_minor": 5
}
